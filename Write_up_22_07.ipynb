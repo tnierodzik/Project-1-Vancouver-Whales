{
 "cells": [
  {
   "cell_type": "markdown",
   "metadata": {},
   "source": [
    "Project 1 Group 2 Findings Write-up"
   ]
  },
  {
   "cell_type": "markdown",
   "metadata": {},
   "source": [
    "Background: Group 2's Project 1 examines a scenario where a new NBA team owner is looking for potential team rosters to achieve the goal of winning the NBA championship."
   ]
  },
  {
   "cell_type": "markdown",
   "metadata": {},
   "source": [
    "Question 1: Determine the number of wins to be a competitive team?"
   ]
  },
  {
   "cell_type": "markdown",
   "metadata": {},
   "source": [
    "Used NBA team records from 2016 to 2019, ommiting the current season (still in progress)\n",
    "We decided to take the average wins for the top team at the end of the season as a benchmarkfor being a 'championship contender'. As sixteen teams make the playoffs, the average win total for the sixteenth team was also taken for 'playoff contender' status. \n",
    "Championship contender was calculated to be 67 wins. \n",
    "Playoff contender was 41 wins. "
   ]
  },
  {
   "cell_type": "markdown",
   "metadata": {},
   "source": [
    "Question 2: How to assemble a roster that will win the championship? "
   ]
  },
  {
   "cell_type": "markdown",
   "metadata": {},
   "source": [
    "In order to pick our team we needed a reliable metric to evaluate the players. We decided to use the statistic 'win share' (WS)  as an overall measure of productivity. WS represents how many wins that player contributes to their team over the course of the regular season. Win share is the combination of offensive (OWS) and defensive win shares (DWS), a summary of the their individual offensive and defensive contribution respectively. \n",
    "\n",
    "Average WS over the last five seasons were taken to filter players with a single great season or missed time for injury, and ranked the players accordingly. Starters were seperated from bench players by minutes played, and only two players of each position could be selected (one starter and one bench player). \n",
    "\n",
    "This gave us the ability to filter the players by position and designate starters and bench players to create our rosters. Players were filtered by overall win shares, defensive win shares, offensive win share, and win shares per million. This returned us four different rosters representing the best over all players, all-defence, all-offence, and most contract friendly players. With these \"prototype\" type players identified, we were able to create a bench mark by which other players could be compared to. A regression analysis created between win shares and salary provides further information in picking players for a future franchise if the sought after player was not able to be signed. \n",
    "\n",
    "As expected, the three teams ranked by top WS, OWS and DWS were all playoff contenders. However they were prohibitevly expensive. The cost-effective team was competitive but would not be a playoff contender as it did not break the 67 win threshold. \n",
    "In an attempt to make a championship contender we decided to take the cost effective team and replace the worst three starters with their counterparts as ranked by WS. This enabled us to create a championship contending team, breaking the threshold by two games. It should also be noted that this team had a salary cap of only $112 million, only 2.6 percent over the salary cap and $25.13 million less then the 2019 champions."
   ]
  },
  {
   "cell_type": "markdown",
   "metadata": {},
   "source": [
    " "
   ]
  }
 ],
 "metadata": {
  "kernelspec": {
   "display_name": "Python 3",
   "language": "python",
   "name": "python3"
  },
  "language_info": {
   "codemirror_mode": {
    "name": "ipython",
    "version": 3
   },
   "file_extension": ".py",
   "mimetype": "text/x-python",
   "name": "python",
   "nbconvert_exporter": "python",
   "pygments_lexer": "ipython3",
   "version": "3.7.6"
  }
 },
 "nbformat": 4,
 "nbformat_minor": 4
}
